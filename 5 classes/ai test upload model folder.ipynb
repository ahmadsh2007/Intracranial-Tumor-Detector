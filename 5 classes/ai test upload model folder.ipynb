{
 "cells": [
  {
   "cell_type": "code",
   "execution_count": null,
   "metadata": {},
   "outputs": [],
   "source": [
    "!python -m pip install matplotlib numpy opencv-python tensorflow"
   ]
  },
  {
   "cell_type": "code",
   "execution_count": null,
   "metadata": {},
   "outputs": [],
   "source": [
    "import tensorflow as tf\n",
    "import os\n",
    "import cv2\n",
    "import imghdr\n",
    "from matplotlib import pyplot as plt\n",
    "import numpy as np\n",
    "from tensorflow.keras.models import load_model\n"
   ]
  },
  {
   "cell_type": "code",
   "execution_count": null,
   "metadata": {},
   "outputs": [],
   "source": [
    "modelpath = r'/home/shatnawi/Desktop/Projects/jupyter-for-tumor-ai/first ai test/!models'\n",
    "modelname = 'trained-model_30.May.2024.16.22.23.564930_1024epochs.h5'"
   ]
  },
  {
   "cell_type": "code",
   "execution_count": null,
   "metadata": {},
   "outputs": [],
   "source": [
    "def load_trained_model():\n",
    "    model_path = os.path.join(modelpath, modelname)\n",
    "    model = tf.keras.models.load_model(model_path, compile=False)\n",
    "    return model"
   ]
  },
  {
   "cell_type": "code",
   "execution_count": null,
   "metadata": {},
   "outputs": [],
   "source": [
    "model = load_trained_model()"
   ]
  },
  {
   "cell_type": "code",
   "execution_count": null,
   "metadata": {},
   "outputs": [],
   "source": [
    "# Define the folder path\n",
    "folder_path = r'/home/shatnawi/Desktop/Old Kali/Projects/jupyter-for-tumor-ai2/first ai test/data/banana'"
   ]
  },
  {
   "cell_type": "code",
   "execution_count": null,
   "metadata": {},
   "outputs": [],
   "source": [
    "# model = load_model(os.path.join(r'/home/shatnawi/Desktop/Projects/jupyter-for-tumor-ai/first ai test/!models','trained-model_30.May.2024.16.22.23.564930_1024epochs.h5')) # choose the dir that u want to load ur model from"
   ]
  },
  {
   "cell_type": "code",
   "execution_count": null,
   "metadata": {},
   "outputs": [],
   "source": [
    "def predict_folder(folder_path, model):\n",
    "    # List all files in the folder\n",
    "    files = os.listdir(folder_path)\n",
    "    \n",
    "    # Array to store names of images with incorrect predictions\n",
    "    incorrect_predictions = []\n",
    "    \n",
    "    for file in files:\n",
    "        # Construct full file path\n",
    "        file_path = os.path.join(folder_path, file)\n",
    "        \n",
    "        # Read the image\n",
    "        img = cv2.imread(file_path)\n",
    "        if img is None:\n",
    "            continue  # Skip if the file is not an image\n",
    "\n",
    "        # Resize the image\n",
    "        resize = tf.image.resize(img, (256, 256))\n",
    "\n",
    "        # Prepare the image for prediction\n",
    "        img_expanded = np.expand_dims(resize / 255.0, 0)\n",
    "\n",
    "        # Make a prediction\n",
    "        yhat = model.predict(img_expanded)\n",
    "\n",
    "        # Interpret and print the prediction\n",
    "        if yhat > 0.5 and yhat <= 1:\n",
    "            print(f'Predicted class for {file} is No Tumor')\n",
    "            # Add incorrect prediction to the array\n",
    "            incorrect_predictions.append(file)\n",
    "        elif yhat < 0.5 and yhat >= 0:\n",
    "            print(f'Predicted class for {file} is Brain Tumor')\n",
    "        elif yhat == 0.5:\n",
    "            print(f'Netural')\n",
    "        else:\n",
    "            print(f'Bugged Code?!')\n",
    "    \n",
    "    # Return the array of incorrect predictions\n",
    "    return incorrect_predictions"
   ]
  },
  {
   "cell_type": "code",
   "execution_count": null,
   "metadata": {},
   "outputs": [],
   "source": [
    "# Call the function to predict all images in the folder\n",
    "predict_folder(folder_path, model)"
   ]
  }
 ],
 "metadata": {
  "kernelspec": {
   "display_name": "tensorflowgpu",
   "language": "python",
   "name": "python3"
  },
  "language_info": {
   "codemirror_mode": {
    "name": "ipython",
    "version": 3
   },
   "file_extension": ".py",
   "mimetype": "text/x-python",
   "name": "python",
   "nbconvert_exporter": "python",
   "pygments_lexer": "ipython3",
   "version": "3.11.9"
  }
 },
 "nbformat": 4,
 "nbformat_minor": 2
}
