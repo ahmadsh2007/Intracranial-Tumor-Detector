{
 "cells": [
  {
   "cell_type": "code",
   "execution_count": null,
   "id": "ae469831-a957-4b16-ac3f-fbf604d2aec8",
   "metadata": {},
   "outputs": [],
   "source": [
    "# Do not use this code under normal circumstances and every time \n",
    "%pip install opencv-python matplotlib pillow"
   ]
  },
  {
   "cell_type": "code",
   "execution_count": null,
   "id": "d638bac0",
   "metadata": {},
   "outputs": [],
   "source": [
    "!pip list # Do not use this code under normal circumstances and every time"
   ]
  },
  {
   "cell_type": "code",
   "execution_count": null,
   "id": "6a3ca60a",
   "metadata": {},
   "outputs": [],
   "source": [
    "import tensorflow as tf # type: ignore\n",
    "import os"
   ]
  },
  {
   "cell_type": "code",
   "execution_count": null,
   "id": "4071637b",
   "metadata": {},
   "outputs": [],
   "source": [
    "# Check GPU availability\n",
    "gpus = tf.config.list_physical_devices('GPU')\n",
    "if gpus:\n",
    "    print(\"GPUs Available: \", len(gpus))\n",
    "    print(\"GPU Details: \", gpus)\n",
    "else:\n",
    "    print(\"No GPUs Available.\")"
   ]
  },
  {
   "cell_type": "code",
   "execution_count": null,
   "id": "85021c60",
   "metadata": {},
   "outputs": [],
   "source": [
    "# Check CPU availability\n",
    "cpu = tf.config.list_physical_devices('CPU')\n",
    "if gpus:\n",
    "    print(\"CPUs Available: \", len(cpu))\n",
    "    print(\"CPU Details: \", cpu)\n",
    "else:\n",
    "    print(\"No CPUs Available.\")"
   ]
  },
  {
   "cell_type": "code",
   "execution_count": null,
   "id": "14f7ceb6",
   "metadata": {},
   "outputs": [],
   "source": [
    "import cv2 # type: ignore\n",
    "import imghdr\n",
    "from matplotlib import pyplot as plt # type: ignore"
   ]
  },
  {
   "cell_type": "code",
   "execution_count": null,
   "id": "fd495a70",
   "metadata": {},
   "outputs": [],
   "source": [
    "data_dir = r'training 4 classes\\no Glioma - Glioma' #use data2 only if u are on this file"
   ]
  },
  {
   "cell_type": "code",
   "execution_count": null,
   "id": "d0feebb4",
   "metadata": {},
   "outputs": [],
   "source": [
    "os.listdir(data_dir)"
   ]
  },
  {
   "cell_type": "code",
   "execution_count": null,
   "id": "f66ca739",
   "metadata": {},
   "outputs": [],
   "source": [
    "os.listdir(os.path.join(data_dir,'Glioma'))"
   ]
  },
  {
   "cell_type": "code",
   "execution_count": null,
   "id": "b148a98a",
   "metadata": {},
   "outputs": [],
   "source": [
    "image_exts = ['jpeg','jpg','bmp','png']"
   ]
  },
  {
   "cell_type": "code",
   "execution_count": null,
   "id": "195ec02e",
   "metadata": {},
   "outputs": [],
   "source": [
    "for image_class in os.listdir(data_dir): \n",
    "    for image in os.listdir(os.path.join(data_dir, image_class)):\n",
    "        image_path = os.path.join(data_dir, image_class, image)\n",
    "        try: \n",
    "            img = cv2.imread(image_path)\n",
    "            tip = imghdr.what(image_path)\n",
    "            if tip not in image_exts: \n",
    "                print('Image not in ext list {}'.format(image_path))\n",
    "                os.remove(image_path)\n",
    "        except Exception as e: \n",
    "            print('Issue with image {}'.format(image_path))\n",
    "            # os.remove(image_path)"
   ]
  },
  {
   "cell_type": "code",
   "execution_count": null,
   "id": "7c4b3fdc",
   "metadata": {},
   "outputs": [],
   "source": [
    "tf.data.Dataset??"
   ]
  },
  {
   "cell_type": "code",
   "execution_count": null,
   "id": "09d97d7b",
   "metadata": {},
   "outputs": [],
   "source": [
    "import numpy as np # type: ignore\n",
    "from matplotlib import pyplot as plt # type: ignore"
   ]
  },
  {
   "cell_type": "code",
   "execution_count": null,
   "id": "4a058a16",
   "metadata": {},
   "outputs": [],
   "source": [
    "data = tf.keras.utils.image_dataset_from_directory(data_dir, batch_size=32) # the smaller batch size the better. the greater batch size the faster. the ideal batch size is 32"
   ]
  },
  {
   "cell_type": "code",
   "execution_count": null,
   "id": "3c3e0ccb",
   "metadata": {},
   "outputs": [],
   "source": [
    "# Assuming 'data' is your dataset\n",
    "data_iterator = data.as_numpy_iterator()"
   ]
  },
  {
   "cell_type": "code",
   "execution_count": null,
   "id": "29326470",
   "metadata": {},
   "outputs": [],
   "source": [
    "#get another batch from the iterator\n",
    "batch = data_iterator.next()"
   ]
  },
  {
   "cell_type": "code",
   "execution_count": null,
   "id": "fbed8c94",
   "metadata": {},
   "outputs": [],
   "source": [
    "# images as numpy arrays\n",
    "batch[0].shape # Should print something like (256, height, width, channels)"
   ]
  },
  {
   "cell_type": "code",
   "execution_count": null,
   "id": "3fd326cc",
   "metadata": {},
   "outputs": [],
   "source": [
    "#class 0 = class one no Brain Tumor \n",
    "#class 1 = class two Brain Tumor\n",
    "batch[1] # Should print the labels for the 256 images"
   ]
  },
  {
   "cell_type": "code",
   "execution_count": null,
   "metadata": {},
   "outputs": [],
   "source": [
    "fig, ax = plt.subplots(ncols=4, figsize=(20,20))\n",
    "for idx, img in enumerate(batch[0][:4]):\n",
    "    ax[idx].imshow(img.astype(int))\n",
    "    ax[idx].title.set_text(batch[1][idx])"
   ]
  },
  {
   "cell_type": "code",
   "execution_count": null,
   "id": "8959f09b",
   "metadata": {},
   "outputs": [],
   "source": [
    "scaled = batch[0] / 255"
   ]
  },
  {
   "cell_type": "code",
   "execution_count": null,
   "id": "b37caeec",
   "metadata": {},
   "outputs": [],
   "source": [
    "scaled.max()"
   ]
  },
  {
   "cell_type": "code",
   "execution_count": null,
   "id": "0f0565ed",
   "metadata": {},
   "outputs": [],
   "source": [
    "scaled.min()"
   ]
  },
  {
   "cell_type": "code",
   "execution_count": null,
   "id": "85a5027b",
   "metadata": {},
   "outputs": [],
   "source": [
    "if batch[0].max() == 255:\n",
    "    data = data.map(lambda x, y: (x / 255, y))\n",
    "    batch = data.as_numpy_iterator().next()\n",
    "    print('have been changed')\n",
    "    print('batch[0].max() = ' + str(batch[0].max()))\n",
    "    print('batch[0].min() = ' + str(batch[0].min()))\n",
    "else:\n",
    "    print('no changes')\n",
    "    print('batch[0].max() = ' + str(batch[0].max()))\n",
    "    print('batch[0].min() = ' + str(batch[0].min()))"
   ]
  },
  {
   "cell_type": "code",
   "execution_count": null,
   "id": "83d2075a",
   "metadata": {},
   "outputs": [],
   "source": [
    "scaled_iterator = data.as_numpy_iterator()"
   ]
  },
  {
   "cell_type": "code",
   "execution_count": null,
   "id": "ed4eec6a",
   "metadata": {},
   "outputs": [],
   "source": [
    "batch = scaled_iterator.next()"
   ]
  },
  {
   "cell_type": "code",
   "execution_count": null,
   "id": "fe4799ad",
   "metadata": {},
   "outputs": [],
   "source": [
    "batch[0].max()"
   ]
  },
  {
   "cell_type": "code",
   "execution_count": null,
   "id": "05985d93",
   "metadata": {},
   "outputs": [],
   "source": [
    "batch[0].min()"
   ]
  },
  {
   "cell_type": "code",
   "execution_count": null,
   "id": "037e6a24",
   "metadata": {},
   "outputs": [],
   "source": [
    "fig, ax = plt.subplots(ncols=4, figsize=(20,20))\n",
    "for idx, img in enumerate(batch[0][:4]):\n",
    "    ax[idx].imshow(img)\n",
    "    ax[idx].title.set_text(batch[1][idx])"
   ]
  },
  {
   "cell_type": "code",
   "execution_count": null,
   "id": "f4648874",
   "metadata": {},
   "outputs": [],
   "source": [
    "len(data)"
   ]
  },
  {
   "cell_type": "code",
   "execution_count": null,
   "id": "b300808b",
   "metadata": {},
   "outputs": [],
   "source": [
    "train_size = int(len(data)*.7)\n",
    "val_size = int(len(data)*.1)\n",
    "test_size = int(len(data)*0.2)+1"
   ]
  },
  {
   "cell_type": "code",
   "execution_count": null,
   "id": "a953537b",
   "metadata": {},
   "outputs": [],
   "source": [
    "train_size + val_size + test_size"
   ]
  },
  {
   "cell_type": "code",
   "execution_count": null,
   "id": "f0f18f67",
   "metadata": {},
   "outputs": [],
   "source": [
    "train = data.take(train_size)\n",
    "val = data.skip(train_size).take(val_size)\n",
    "test = data.skip(train_size + val_size).take(test_size)"
   ]
  },
  {
   "cell_type": "code",
   "execution_count": null,
   "id": "cca66ce1",
   "metadata": {},
   "outputs": [],
   "source": [
    "from tensorflow.keras.models import Sequential # type: ignore\n",
    "from tensorflow.keras.layers import Conv2D, MaxPooling2D, Dense, Flatten # type: ignore"
   ]
  },
  {
   "cell_type": "code",
   "execution_count": null,
   "id": "57a9178e",
   "metadata": {},
   "outputs": [],
   "source": [
    "model = Sequential()"
   ]
  },
  {
   "cell_type": "code",
   "execution_count": null,
   "id": "b2dbf2de",
   "metadata": {},
   "outputs": [],
   "source": [
    "model.add(Conv2D(16, (3,3), 1, activation='relu', input_shape=(256,256,3)))\n",
    "model.add(MaxPooling2D())\n",
    "\n",
    "model.add(Conv2D(32, (3,3), 1, activation='relu'))\n",
    "model.add(MaxPooling2D())\n",
    "\n",
    "model.add(Conv2D(16, (3,3), 1, activation='relu'))\n",
    "model.add(MaxPooling2D())\n",
    "\n",
    "model.add(Flatten())\n",
    "\n",
    "model.add(Dense(256, activation='relu'))\n",
    "model.add(Dense(1, activation='sigmoid'))\n"
   ]
  },
  {
   "cell_type": "code",
   "execution_count": null,
   "id": "e091f0dd",
   "metadata": {},
   "outputs": [],
   "source": [
    "model.compile('adam', loss=tf.losses.BinaryCrossentropy(), metrics=['accuracy'])"
   ]
  },
  {
   "cell_type": "code",
   "execution_count": null,
   "id": "e35367fa",
   "metadata": {},
   "outputs": [],
   "source": [
    "model.summary()"
   ]
  },
  {
   "cell_type": "code",
   "execution_count": null,
   "id": "e848f11f",
   "metadata": {},
   "outputs": [],
   "source": [
    "from datetime import datetime\n",
    "\n",
    "# Get the current date and time\n",
    "current_date = datetime.now()\n",
    "\n",
    "# Format the date string with microseconds\n",
    "formatted_date = current_date.strftime('%d.%h.%Y') + '.' + current_date.strftime('(%H.%M.%S)') + '.' + str(current_date.microsecond)\n",
    "\n",
    "print(\"Formatted date with microseconds:\", formatted_date)"
   ]
  },
  {
   "cell_type": "code",
   "execution_count": null,
   "id": "8232db77",
   "metadata": {},
   "outputs": [],
   "source": [
    "logdir = fr'log_for_no Glioma - Glioma_{str(formatted_date)}' # change it to any log file if u were working on this file"
   ]
  },
  {
   "cell_type": "code",
   "execution_count": null,
   "id": "5dec9867",
   "metadata": {},
   "outputs": [],
   "source": [
    "tensorboard_callback = tf.keras.callbacks.TensorBoard(log_dir=logdir)"
   ]
  },
  {
   "cell_type": "code",
   "execution_count": null,
   "id": "b012d6bc",
   "metadata": {},
   "outputs": [],
   "source": [
    "batch[0].max()"
   ]
  },
  {
   "cell_type": "code",
   "execution_count": null,
   "id": "bf6b24ea",
   "metadata": {},
   "outputs": [],
   "source": [
    "batch[0].min()"
   ]
  },
  {
   "cell_type": "code",
   "execution_count": null,
   "id": "bd8abf67",
   "metadata": {},
   "outputs": [],
   "source": [
    "hist = model.fit(train, epochs=32, validation_data=val, callbacks=[tensorboard_callback])"
   ]
  },
  {
   "cell_type": "code",
   "execution_count": null,
   "id": "f5ec8860",
   "metadata": {},
   "outputs": [],
   "source": [
    "hist.history.keys()"
   ]
  },
  {
   "cell_type": "code",
   "execution_count": null,
   "id": "69f780d6",
   "metadata": {},
   "outputs": [],
   "source": [
    "fig = plt.figure()\n",
    "plt.plot(hist.history['accuracy'], color='teal', label='accuracy')\n",
    "plt.plot(hist.history['val_accuracy'], color='orange', label='val_accuracy')\n",
    "fig.suptitle('Accuracy', fontsize=20)\n",
    "plt.legend(loc=\"lower right\") # 4 options: lower left, lower right, upper left, upper right\n",
    "plt.show()"
   ]
  },
  {
   "cell_type": "code",
   "execution_count": null,
   "id": "2a5078b2",
   "metadata": {},
   "outputs": [],
   "source": [
    "fig = plt.figure()\n",
    "plt.plot(hist.history['loss'], color='teal', label='loss')\n",
    "plt.plot(hist.history['val_loss'], color='orange', label='val_loss')\n",
    "fig.suptitle('Loss', fontsize=20)\n",
    "plt.legend(loc=\"upper right\") # 4 options: lower left, lower right, upper left, upper right\n",
    "plt.show()"
   ]
  },
  {
   "cell_type": "code",
   "execution_count": null,
   "id": "3c3057df",
   "metadata": {},
   "outputs": [],
   "source": [
    "from tensorflow.keras.metrics import Precision, Recall, BinaryAccuracy # type: ignore"
   ]
  },
  {
   "cell_type": "code",
   "execution_count": null,
   "id": "79223b57",
   "metadata": {},
   "outputs": [],
   "source": [
    "Precision = Precision()\n",
    "Recall = Recall()\n",
    "BinAccuracy = BinaryAccuracy()"
   ]
  },
  {
   "cell_type": "code",
   "execution_count": null,
   "id": "602c4baf",
   "metadata": {},
   "outputs": [],
   "source": [
    "len(test)"
   ]
  },
  {
   "cell_type": "code",
   "execution_count": null,
   "id": "66ead41b",
   "metadata": {},
   "outputs": [],
   "source": [
    "for batch in test.as_numpy_iterator(): \n",
    "    X, y = batch\n",
    "    yhat = model.predict(X)\n",
    "    Precision.update_state(y, yhat)\n",
    "    Recall.update_state(y, yhat)\n",
    "    BinAccuracy.update_state(y, yhat)"
   ]
  },
  {
   "cell_type": "code",
   "execution_count": null,
   "id": "bff61fc3",
   "metadata": {},
   "outputs": [],
   "source": [
    "print(f'Precision: {Precision.result().numpy()}, Recall {Recall.result().numpy()}, Accuracy{BinAccuracy.result().numpy()}')"
   ]
  },
  {
   "cell_type": "code",
   "execution_count": null,
   "id": "f2ef7671",
   "metadata": {},
   "outputs": [],
   "source": [
    "img = cv2.imread(r'training 4 classes\\no Glioma - Glioma\\AA no Glioma\\m (177).jpg') # change this to image dir\n",
    "plt.imshow(cv2.cvtColor(img, cv2.COLOR_BGR2RGB))\n",
    "plt.show()"
   ]
  },
  {
   "cell_type": "code",
   "execution_count": null,
   "metadata": {},
   "outputs": [],
   "source": [
    "resize = tf.image.resize(img, (256,256))\n",
    "plt.imshow(resize.numpy().astype(int))\n",
    "plt.show()"
   ]
  },
  {
   "cell_type": "code",
   "execution_count": null,
   "id": "a0022c94",
   "metadata": {},
   "outputs": [],
   "source": [
    "np.expand_dims(resize, 0)"
   ]
  },
  {
   "cell_type": "code",
   "execution_count": null,
   "id": "648475dc",
   "metadata": {},
   "outputs": [],
   "source": [
    "yhat = model.predict(np.expand_dims(resize/255, 0))"
   ]
  },
  {
   "cell_type": "code",
   "execution_count": null,
   "id": "97eceba1",
   "metadata": {},
   "outputs": [],
   "source": [
    "if yhat > 0.5 and yhat <= 1: \n",
    "    print(f'Image has been Classified as Glioma')\n",
    "elif yhat < 0.5 and yhat >= 0:\n",
    "    print(f'Image has been Classified as no Glioma')\n",
    "elif yhat == 0.5:\n",
    "    print(f'Neutral')\n",
    "else:\n",
    "    print(f'Bugged Code?!')"
   ]
  },
  {
   "cell_type": "code",
   "execution_count": null,
   "id": "64a7b6f6",
   "metadata": {},
   "outputs": [],
   "source": [
    "from tensorflow.keras.models import load_model # type: ignore\n",
    "from datetime import datetime\n",
    "#import os\n",
    "#import tensorflow as tf"
   ]
  },
  {
   "cell_type": "code",
   "execution_count": null,
   "id": "5d52358e",
   "metadata": {},
   "outputs": [],
   "source": [
    "from datetime import datetime\n",
    "\n",
    "num_epochs = len(hist.epoch)\n",
    "\n",
    "# Get the current date and time\n",
    "current_date = datetime.now()\n",
    "\n",
    "# Format the date string with microseconds\n",
    "formatted_date = current_date.strftime('%d.%h.%Y') + '.' + current_date.strftime('%H.%M.%S') + '.' + str(current_date.microsecond)\n",
    "\n",
    "print(\"Formatted date with microseconds:\", formatted_date)\n",
    "print(\"len(hist.epochs) = \" + str(num_epochs))"
   ]
  },
  {
   "cell_type": "code",
   "execution_count": null,
   "id": "88360805",
   "metadata": {},
   "outputs": [],
   "source": [
    "model.save(os.path.join(r'models',f'Glioma_{formatted_date}_{num_epochs}epochs.h5')) # choose the dir that u want to save ur model at"
   ]
  },
  {
   "cell_type": "code",
   "execution_count": null,
   "id": "647068a8",
   "metadata": {},
   "outputs": [],
   "source": [
    "new_model = load_model(os.path.join(r'models', fr'Glioma_17.Jun.2024.10.44.42.828487_512epochs.h5')) # choose the dir that u want to load ur model from"
   ]
  },
  {
   "cell_type": "code",
   "execution_count": null,
   "id": "22dba8e1",
   "metadata": {},
   "outputs": [],
   "source": [
    "yhattest = new_model.predict(np.expand_dims(resize/255, 0))"
   ]
  },
  {
   "cell_type": "code",
   "execution_count": null,
   "id": "06c3c773",
   "metadata": {},
   "outputs": [],
   "source": [
    "if yhattest > 0.5 and yhattest <= 1: \n",
    "    print(f'Image has been Classified as Glioma')\n",
    "elif yhattest < 0.5 and yhattest >= 0:\n",
    "    print(f'Image has been Classified as no Glioma')\n",
    "elif yhattest == 0.5:\n",
    "    print(f'Neutral')\n",
    "else:\n",
    "    print(f'Bugged Code?!')"
   ]
  },
  {
   "cell_type": "code",
   "execution_count": null,
   "id": "53533130",
   "metadata": {},
   "outputs": [],
   "source": [
    "import pandas as pd\n",
    "\n",
    "# Extracting the metrics\n",
    "epochs = range(1, len(hist.history['accuracy']) + 1)\n",
    "accuracy = hist.history['accuracy']\n",
    "validation_accuracy = hist.history['val_accuracy']\n",
    "loss = hist.history['loss']\n",
    "validation_loss = hist.history['val_loss']\n",
    "\n",
    "# Creating a DataFrame with the desired columns\n",
    "df = pd.DataFrame({\n",
    "    'Epochs': epochs,\n",
    "    'Accuracy': accuracy,\n",
    "    'Validation Accuracy': validation_accuracy,\n",
    "    'Loss': loss,\n",
    "    'Validation Loss': validation_loss\n",
    "})\n",
    "\n",
    "# Saving the DataFrame to a CSV file\n",
    "df.to_csv(rf'training metrics/training_metrics_Glioma.csv', index=False)"
   ]
  },
  {
   "cell_type": "code",
   "execution_count": null,
   "id": "c482b3ad",
   "metadata": {},
   "outputs": [],
   "source": [
    "# Define the folder path\n",
    "folder_path_Positive = r'testing/glioma'\n",
    "folder_path_Negative = r'testing/no glioma'"
   ]
  },
  {
   "cell_type": "code",
   "execution_count": null,
   "id": "caa151dc",
   "metadata": {},
   "outputs": [],
   "source": [
    "def predict_folder_brain_tumor(folder_path, model):\n",
    "    # List all files in the folder\n",
    "    files = os.listdir(folder_path)\n",
    "    \n",
    "    # Array to store names of images with incorrect predictions\n",
    "    incorrect_predictions: list = []\n",
    "    \n",
    "    for file in files:\n",
    "        # Construct full file path\n",
    "        file_path = os.path.join(folder_path, file)\n",
    "        \n",
    "        # Read the image\n",
    "        img = cv2.imread(file_path)\n",
    "        if img is None:\n",
    "            continue  # Skip if the file is not an image\n",
    "\n",
    "        # Resize the image\n",
    "        resize = tf.image.resize(img, (256, 256))\n",
    "\n",
    "        # Prepare the image for prediction\n",
    "        img_expanded = np.expand_dims(resize / 255.0, 0)\n",
    "\n",
    "        # Make a prediction\n",
    "        yhat = model.predict(img_expanded)\n",
    "\n",
    "        # Interpret and print the prediction\n",
    "        if yhat > 0.5 and yhat <= 1:\n",
    "            print(f'Predicted class for {file} is Glioma Tumor')\n",
    "        elif yhat < 0.5 and yhat >= 0:\n",
    "            print(f'Predicted class for {file} is No Glioma Tumor')\n",
    "            # Add incorrect prediction to the array\n",
    "            incorrect_predictions.append(file)\n",
    "\n",
    "    print(f'True Positive Percentage of Glioma Prediction is: {float((len(files)-len(incorrect_predictions))/len(files)) * 100:.3f}%')\n",
    "\n",
    "    \n",
    "    # Return the array of incorrect predictions\n",
    "    return incorrect_predictions\n"
   ]
  },
  {
   "cell_type": "code",
   "execution_count": null,
   "id": "3398e326",
   "metadata": {},
   "outputs": [],
   "source": [
    "def predict_folder_no_tumor(folder_path, model):\n",
    "    # List all files in the folder\n",
    "    files = os.listdir(folder_path)\n",
    "    \n",
    "    # Array to store names of images with incorrect predictions\n",
    "    incorrect_predictions: list = []\n",
    "    \n",
    "    for file in files:\n",
    "        # Construct full file path\n",
    "        file_path = os.path.join(folder_path, file)\n",
    "        \n",
    "        # Read the image\n",
    "        img = cv2.imread(file_path)\n",
    "        if img is None:\n",
    "            continue  # Skip if the file is not an image\n",
    "\n",
    "        # Resize the image\n",
    "        resize = tf.image.resize(img, (256, 256))\n",
    "\n",
    "        # Prepare the image for prediction\n",
    "        img_expanded = np.expand_dims(resize / 255.0, 0)\n",
    "\n",
    "        # Make a prediction\n",
    "        yhat = model.predict(img_expanded)\n",
    "\n",
    "        # Interpret and print the prediction\n",
    "        if yhat > 0.5 and yhat <= 1:\n",
    "            print(f'Predicted class for {file} is Glioma Tumor')\n",
    "            # Add incorrect prediction to the array\n",
    "            incorrect_predictions.append(file)\n",
    "        elif yhat < 0.5 and yhat >= 0:\n",
    "            print(f'Predicted class for {file} is No Glioma Tumor')\n",
    "\n",
    "    print(f'True Negative Percentage of Glioma Prediction is: {float((len(files)-len(incorrect_predictions))/len(files)) * 100:.3f}%')\n",
    "\n",
    "    \n",
    "    # Return the array of incorrect predictions\n",
    "    return incorrect_predictions"
   ]
  },
  {
   "cell_type": "code",
   "execution_count": null,
   "id": "47e57a16",
   "metadata": {},
   "outputs": [],
   "source": [
    "# Call the function to predict all images in the folder\n",
    "predict_folder_brain_tumor(folder_path_Positive, new_model)"
   ]
  },
  {
   "cell_type": "code",
   "execution_count": null,
   "id": "d70ba084",
   "metadata": {},
   "outputs": [],
   "source": [
    "# Call the function to predict all images in the folder\n",
    "predict_folder_no_tumor(folder_path_Negative, new_model)"
   ]
  }
 ],
 "metadata": {
  "kernelspec": {
   "display_name": "Python 3",
   "language": "python",
   "name": "python3"
  },
  "language_info": {
   "codemirror_mode": {
    "name": "ipython",
    "version": 3
   },
   "file_extension": ".py",
   "mimetype": "text/x-python",
   "name": "python",
   "nbconvert_exporter": "python",
   "pygments_lexer": "ipython3",
   "version": "3.10.14"
  }
 },
 "nbformat": 4,
 "nbformat_minor": 5
}
